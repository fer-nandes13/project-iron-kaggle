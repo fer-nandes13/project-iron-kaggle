{
 "cells": [
  {
   "cell_type": "code",
   "execution_count": null,
   "id": "9e56b845",
   "metadata": {},
   "outputs": [],
   "source": [
    "# IDENTIFIERS\n",
    "\n",
    "# shop_ID : Shop's unique identifier.\n",
    "# day_of_the_week : Encoded from 0 to 6.\n",
    "# date : day, month and year of the data point.\n",
    "# number of customers : Quantity of customers that showed up that day.\n",
    "# open : Binary variable equal to 0 if shop closed that day and 1 if shop open.\n",
    "# promotion : Binary variable equal to 0 if shop had no promotions that day and 1 if it did.\n",
    "# tate_holiday : Encoded 0, a, b, c indicating if there was a state holiday at all (0 if not), and otherwise, the number indicates which state holiday it was.\n",
    "# school_holiday : Binary variable equal to 0 if there was a school holiday that day and 1 if not"
   ]
  }
 ],
 "metadata": {
  "kernelspec": {
   "display_name": "Python 3 (ipykernel)",
   "language": "python",
   "name": "python3"
  },
  "language_info": {
   "codemirror_mode": {
    "name": "ipython",
    "version": 3
   },
   "file_extension": ".py",
   "mimetype": "text/x-python",
   "name": "python",
   "nbconvert_exporter": "python",
   "pygments_lexer": "ipython3",
   "version": "3.11.5"
  }
 },
 "nbformat": 4,
 "nbformat_minor": 5
}
